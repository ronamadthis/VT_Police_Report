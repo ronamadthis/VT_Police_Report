{
 "cells": [
  {
   "cell_type": "code",
   "execution_count": 17,
   "metadata": {},
   "outputs": [],
   "source": [
    "import pandas as pd\n",
    "import numpy as np\n",
    "%matplotlib inline"
   ]
  },
  {
   "cell_type": "code",
   "execution_count": 18,
   "metadata": {},
   "outputs": [
    {
     "name": "stderr",
     "output_type": "stream",
     "text": [
      "c:\\users\\sitra\\anaconda3\\envs\\pythondata\\lib\\site-packages\\IPython\\core\\interactiveshell.py:2728: DtypeWarning: Columns (19) have mixed types. Specify dtype option on import or set low_memory=False.\n",
      "  interactivity=interactivity, compiler=compiler, result=result)\n"
     ]
    },
    {
     "data": {
      "text/html": [
       "<div>\n",
       "<style>\n",
       "    .dataframe thead tr:only-child th {\n",
       "        text-align: right;\n",
       "    }\n",
       "\n",
       "    .dataframe thead th {\n",
       "        text-align: left;\n",
       "    }\n",
       "\n",
       "    .dataframe tbody tr th {\n",
       "        vertical-align: top;\n",
       "    }\n",
       "</style>\n",
       "<table border=\"1\" class=\"dataframe\">\n",
       "  <thead>\n",
       "    <tr style=\"text-align: right;\">\n",
       "      <th></th>\n",
       "      <th>id</th>\n",
       "      <th>state</th>\n",
       "      <th>stop_date</th>\n",
       "      <th>stop_time</th>\n",
       "      <th>location_raw</th>\n",
       "      <th>county_name</th>\n",
       "      <th>county_fips</th>\n",
       "      <th>fine_grained_location</th>\n",
       "      <th>police_department</th>\n",
       "      <th>driver_gender</th>\n",
       "      <th>...</th>\n",
       "      <th>driver_race</th>\n",
       "      <th>violation_raw</th>\n",
       "      <th>violation</th>\n",
       "      <th>search_conducted</th>\n",
       "      <th>search_type_raw</th>\n",
       "      <th>search_type</th>\n",
       "      <th>contraband_found</th>\n",
       "      <th>stop_outcome</th>\n",
       "      <th>is_arrested</th>\n",
       "      <th>officer_id</th>\n",
       "    </tr>\n",
       "  </thead>\n",
       "  <tbody>\n",
       "    <tr>\n",
       "      <th>0</th>\n",
       "      <td>VT-2010-00001</td>\n",
       "      <td>VT</td>\n",
       "      <td>2010-07-01</td>\n",
       "      <td>00:10</td>\n",
       "      <td>East Montpelier</td>\n",
       "      <td>Washington County</td>\n",
       "      <td>50023.0</td>\n",
       "      <td>COUNTY RD</td>\n",
       "      <td>MIDDLESEX VSP</td>\n",
       "      <td>M</td>\n",
       "      <td>...</td>\n",
       "      <td>White</td>\n",
       "      <td>Moving Violation</td>\n",
       "      <td>Moving violation</td>\n",
       "      <td>False</td>\n",
       "      <td>No Search Conducted</td>\n",
       "      <td>NaN</td>\n",
       "      <td>False</td>\n",
       "      <td>Citation</td>\n",
       "      <td>False</td>\n",
       "      <td>-1.562157e+09</td>\n",
       "    </tr>\n",
       "    <tr>\n",
       "      <th>1</th>\n",
       "      <td>VT-2010-00002</td>\n",
       "      <td>VT</td>\n",
       "      <td>2010-07-01</td>\n",
       "      <td>00:10</td>\n",
       "      <td>NaN</td>\n",
       "      <td>NaN</td>\n",
       "      <td>NaN</td>\n",
       "      <td>COUNTY RD; Fitch Road</td>\n",
       "      <td>MIDDLESEX VSP</td>\n",
       "      <td>F</td>\n",
       "      <td>...</td>\n",
       "      <td>White</td>\n",
       "      <td>Externally Generated Stop</td>\n",
       "      <td>Other</td>\n",
       "      <td>False</td>\n",
       "      <td>No Search Conducted</td>\n",
       "      <td>NaN</td>\n",
       "      <td>False</td>\n",
       "      <td>Arrest for Violation</td>\n",
       "      <td>True</td>\n",
       "      <td>-1.562157e+09</td>\n",
       "    </tr>\n",
       "    <tr>\n",
       "      <th>2</th>\n",
       "      <td>VT-2010-00003</td>\n",
       "      <td>VT</td>\n",
       "      <td>2010-07-01</td>\n",
       "      <td>00:10</td>\n",
       "      <td>NaN</td>\n",
       "      <td>NaN</td>\n",
       "      <td>NaN</td>\n",
       "      <td>COUNTY RD; Fitch Road</td>\n",
       "      <td>MIDDLESEX VSP</td>\n",
       "      <td>F</td>\n",
       "      <td>...</td>\n",
       "      <td>White</td>\n",
       "      <td>Externally Generated Stop</td>\n",
       "      <td>Other</td>\n",
       "      <td>False</td>\n",
       "      <td>No Search Conducted</td>\n",
       "      <td>NaN</td>\n",
       "      <td>False</td>\n",
       "      <td>Arrest for Violation</td>\n",
       "      <td>True</td>\n",
       "      <td>-1.562157e+09</td>\n",
       "    </tr>\n",
       "    <tr>\n",
       "      <th>3</th>\n",
       "      <td>VT-2010-00004</td>\n",
       "      <td>VT</td>\n",
       "      <td>2010-07-01</td>\n",
       "      <td>00:11</td>\n",
       "      <td>Whiting</td>\n",
       "      <td>Addison County</td>\n",
       "      <td>50001.0</td>\n",
       "      <td>N MAIN ST</td>\n",
       "      <td>NEW HAVEN VSP</td>\n",
       "      <td>F</td>\n",
       "      <td>...</td>\n",
       "      <td>White</td>\n",
       "      <td>Moving Violation</td>\n",
       "      <td>Moving violation</td>\n",
       "      <td>False</td>\n",
       "      <td>No Search Conducted</td>\n",
       "      <td>NaN</td>\n",
       "      <td>False</td>\n",
       "      <td>Arrest for Violation</td>\n",
       "      <td>True</td>\n",
       "      <td>-3.126844e+08</td>\n",
       "    </tr>\n",
       "    <tr>\n",
       "      <th>4</th>\n",
       "      <td>VT-2010-00005</td>\n",
       "      <td>VT</td>\n",
       "      <td>2010-07-01</td>\n",
       "      <td>00:35</td>\n",
       "      <td>Hardwick</td>\n",
       "      <td>Caledonia County</td>\n",
       "      <td>50005.0</td>\n",
       "      <td>i91 nb mm 62</td>\n",
       "      <td>ROYALTON VSP</td>\n",
       "      <td>M</td>\n",
       "      <td>...</td>\n",
       "      <td>White</td>\n",
       "      <td>Moving Violation</td>\n",
       "      <td>Moving violation</td>\n",
       "      <td>False</td>\n",
       "      <td>No Search Conducted</td>\n",
       "      <td>NaN</td>\n",
       "      <td>False</td>\n",
       "      <td>Written Warning</td>\n",
       "      <td>False</td>\n",
       "      <td>9.225661e+08</td>\n",
       "    </tr>\n",
       "  </tbody>\n",
       "</table>\n",
       "<p>5 rows × 23 columns</p>\n",
       "</div>"
      ],
      "text/plain": [
       "              id state   stop_date stop_time     location_raw  \\\n",
       "0  VT-2010-00001    VT  2010-07-01     00:10  East Montpelier   \n",
       "1  VT-2010-00002    VT  2010-07-01     00:10              NaN   \n",
       "2  VT-2010-00003    VT  2010-07-01     00:10              NaN   \n",
       "3  VT-2010-00004    VT  2010-07-01     00:11          Whiting   \n",
       "4  VT-2010-00005    VT  2010-07-01     00:35         Hardwick   \n",
       "\n",
       "         county_name  county_fips  fine_grained_location police_department  \\\n",
       "0  Washington County      50023.0              COUNTY RD     MIDDLESEX VSP   \n",
       "1                NaN          NaN  COUNTY RD; Fitch Road     MIDDLESEX VSP   \n",
       "2                NaN          NaN  COUNTY RD; Fitch Road     MIDDLESEX VSP   \n",
       "3     Addison County      50001.0              N MAIN ST     NEW HAVEN VSP   \n",
       "4   Caledonia County      50005.0           i91 nb mm 62      ROYALTON VSP   \n",
       "\n",
       "  driver_gender      ...       driver_race              violation_raw  \\\n",
       "0             M      ...             White           Moving Violation   \n",
       "1             F      ...             White  Externally Generated Stop   \n",
       "2             F      ...             White  Externally Generated Stop   \n",
       "3             F      ...             White           Moving Violation   \n",
       "4             M      ...             White           Moving Violation   \n",
       "\n",
       "          violation search_conducted      search_type_raw search_type  \\\n",
       "0  Moving violation            False  No Search Conducted         NaN   \n",
       "1             Other            False  No Search Conducted         NaN   \n",
       "2             Other            False  No Search Conducted         NaN   \n",
       "3  Moving violation            False  No Search Conducted         NaN   \n",
       "4  Moving violation            False  No Search Conducted         NaN   \n",
       "\n",
       "   contraband_found          stop_outcome is_arrested    officer_id  \n",
       "0             False              Citation       False -1.562157e+09  \n",
       "1             False  Arrest for Violation        True -1.562157e+09  \n",
       "2             False  Arrest for Violation        True -1.562157e+09  \n",
       "3             False  Arrest for Violation        True -3.126844e+08  \n",
       "4             False       Written Warning       False  9.225661e+08  \n",
       "\n",
       "[5 rows x 23 columns]"
      ]
     },
     "execution_count": 18,
     "metadata": {},
     "output_type": "execute_result"
    }
   ],
   "source": [
    "vt = pd.read_csv(\"VT_police.csv\")\n",
    "vt.head()"
   ]
  },
  {
   "cell_type": "code",
   "execution_count": 19,
   "metadata": {},
   "outputs": [
    {
     "data": {
      "text/plain": [
       "(283285, 23)"
      ]
     },
     "execution_count": 19,
     "metadata": {},
     "output_type": "execute_result"
    }
   ],
   "source": [
    "vt.shape"
   ]
  },
  {
   "cell_type": "code",
   "execution_count": 20,
   "metadata": {},
   "outputs": [
    {
     "data": {
      "text/plain": [
       "id                        object\n",
       "state                     object\n",
       "stop_date                 object\n",
       "stop_time                 object\n",
       "location_raw              object\n",
       "county_name               object\n",
       "county_fips              float64\n",
       "fine_grained_location     object\n",
       "police_department         object\n",
       "driver_gender             object\n",
       "driver_age_raw           float64\n",
       "driver_age               float64\n",
       "driver_race_raw           object\n",
       "driver_race               object\n",
       "violation_raw             object\n",
       "violation                 object\n",
       "search_conducted            bool\n",
       "search_type_raw           object\n",
       "search_type               object\n",
       "contraband_found          object\n",
       "stop_outcome              object\n",
       "is_arrested                 bool\n",
       "officer_id               float64\n",
       "dtype: object"
      ]
     },
     "execution_count": 20,
     "metadata": {},
     "output_type": "execute_result"
    }
   ],
   "source": [
    "vt.dtypes"
   ]
  },
  {
   "cell_type": "code",
   "execution_count": 21,
   "metadata": {},
   "outputs": [
    {
     "data": {
      "text/plain": [
       "id                            0\n",
       "state                         0\n",
       "stop_date                     0\n",
       "stop_time                     0\n",
       "location_raw                694\n",
       "county_name                 705\n",
       "county_fips                 705\n",
       "fine_grained_location       347\n",
       "police_department             0\n",
       "driver_gender              1712\n",
       "driver_age_raw             1171\n",
       "driver_age                 1286\n",
       "driver_race_raw            3984\n",
       "driver_race                4817\n",
       "violation_raw              2178\n",
       "violation                  2178\n",
       "search_conducted              0\n",
       "search_type_raw            2240\n",
       "search_type              279866\n",
       "contraband_found             34\n",
       "stop_outcome               2325\n",
       "is_arrested                   0\n",
       "officer_id                   12\n",
       "dtype: int64"
      ]
     },
     "execution_count": 21,
     "metadata": {},
     "output_type": "execute_result"
    }
   ],
   "source": [
    "vt.isnull().sum()"
   ]
  },
  {
   "cell_type": "code",
   "execution_count": 28,
   "metadata": {},
   "outputs": [
    {
     "data": {
      "text/plain": [
       "Moving violation      218302\n",
       "Equipment              51934\n",
       "Other                  10120\n",
       "DUI                      749\n",
       "Other (non-mapped)         2\n",
       "Name: violation, dtype: int64"
      ]
     },
     "execution_count": 28,
     "metadata": {},
     "output_type": "execute_result"
    }
   ],
   "source": [
    "vt.violation.value_counts()"
   ]
  },
  {
   "cell_type": "code",
   "execution_count": 29,
   "metadata": {},
   "outputs": [],
   "source": [
    "# vt.drop('search_type', axis='columns', inplace=True)"
   ]
  },
  {
   "cell_type": "code",
   "execution_count": 27,
   "metadata": {},
   "outputs": [
    {
     "data": {
      "text/plain": [
       "(283285, 23)"
      ]
     },
     "execution_count": 27,
     "metadata": {},
     "output_type": "execute_result"
    }
   ],
   "source": [
    "vt.shape"
   ]
  },
  {
   "cell_type": "code",
   "execution_count": 30,
   "metadata": {},
   "outputs": [
    {
     "data": {
      "text/plain": [
       "M    0.718291\n",
       "F    0.281709\n",
       "Name: driver_gender, dtype: float64"
      ]
     },
     "execution_count": 30,
     "metadata": {},
     "output_type": "execute_result"
    }
   ],
   "source": [
    "# when someone is stopped for DUI, how often is it a man or woman?\n",
    "vt[vt.violation == 'DUI'].driver_gender.value_counts(normalize=True)"
   ]
  },
  {
   "cell_type": "code",
   "execution_count": 31,
   "metadata": {},
   "outputs": [
    {
     "data": {
      "text/plain": [
       "driver_gender  violation         \n",
       "F              Moving violation      0.774360\n",
       "               Equipment             0.188631\n",
       "               Other                 0.034926\n",
       "               DUI                   0.002083\n",
       "M              Moving violation      0.778316\n",
       "               Equipment             0.182092\n",
       "               Other                 0.036561\n",
       "               DUI                   0.003020\n",
       "               Other (non-mapped)    0.000011\n",
       "Name: violation, dtype: float64"
      ]
     },
     "execution_count": 31,
     "metadata": {},
     "output_type": "execute_result"
    }
   ],
   "source": [
    "vt.groupby('driver_gender').violation.value_counts(normalize=True)"
   ]
  },
  {
   "cell_type": "code",
   "execution_count": 33,
   "metadata": {},
   "outputs": [
    {
     "data": {
      "text/plain": [
       "driver_gender\n",
       "F    0.006713\n",
       "M    0.015105\n",
       "Name: search_conducted, dtype: float64"
      ]
     },
     "execution_count": 33,
     "metadata": {},
     "output_type": "execute_result"
    }
   ],
   "source": [
    "# search rate by gender\n",
    "vt.groupby('driver_gender').search_conducted.mean()"
   ]
  },
  {
   "cell_type": "code",
   "execution_count": 35,
   "metadata": {},
   "outputs": [
    {
     "data": {
      "text/plain": [
       "driver_race\n",
       "Asian       0.803992\n",
       "Black       5.086222\n",
       "Hispanic    4.038095\n",
       "Other       3.942652\n",
       "White       1.103991\n",
       "Name: search_conducted, dtype: float64"
      ]
     },
     "execution_count": 35,
     "metadata": {},
     "output_type": "execute_result"
    }
   ],
   "source": [
    "# search % rate by driver_race\n",
    "vt.groupby('driver_race').search_conducted.mean()*100"
   ]
  },
  {
   "cell_type": "code",
   "execution_count": 37,
   "metadata": {},
   "outputs": [
    {
     "data": {
      "text/plain": [
       "driver_race\n",
       "Asian       0.609925\n",
       "Black       2.125065\n",
       "Hispanic    1.752381\n",
       "Other       2.508961\n",
       "White       1.174234\n",
       "Name: is_arrested, dtype: float64"
      ]
     },
     "execution_count": 37,
     "metadata": {},
     "output_type": "execute_result"
    }
   ],
   "source": [
    "# search % rate arrested by driver_race\n",
    "vt.groupby('driver_race').is_arrested.mean()*100"
   ]
  },
  {
   "cell_type": "code",
   "execution_count": 39,
   "metadata": {},
   "outputs": [
    {
     "data": {
      "text/plain": [
       "driver_gender\n",
       "F    0.006713\n",
       "M    0.015105\n",
       "Name: search_conducted, dtype: float64"
      ]
     },
     "execution_count": 39,
     "metadata": {},
     "output_type": "execute_result"
    }
   ],
   "source": [
    "# search rate by gender\n",
    "vt.groupby('driver_gender').search_conducted.mean()"
   ]
  },
  {
   "cell_type": "code",
   "execution_count": 41,
   "metadata": {},
   "outputs": [
    {
     "data": {
      "text/plain": [
       "violation           driver_gender\n",
       "DUI                 F                 2.369668\n",
       "                    M                10.037175\n",
       "Equipment           F                 0.900382\n",
       "                    M                 2.210030\n",
       "Moving violation    F                 0.508792\n",
       "                    M                 1.148041\n",
       "Other               F                 2.912072\n",
       "                    M                 5.188824\n",
       "Other (non-mapped)  M                 0.000000\n",
       "Name: search_conducted, dtype: float64"
      ]
     },
     "execution_count": 41,
     "metadata": {},
     "output_type": "execute_result"
    }
   ],
   "source": [
    "# include a second factor\n",
    "vt.groupby(['violation', 'driver_gender']).search_conducted.mean()*100"
   ]
  },
  {
   "cell_type": "code",
   "execution_count": 42,
   "metadata": {},
   "outputs": [
    {
     "data": {
      "text/plain": [
       "False    279866\n",
       "True       3419\n",
       "Name: search_conducted, dtype: int64"
      ]
     },
     "execution_count": 42,
     "metadata": {},
     "output_type": "execute_result"
    }
   ],
   "source": [
    "# maybe search_type is missing any time search_conducted is False?\n",
    "vt.search_conducted.value_counts()"
   ]
  },
  {
   "cell_type": "code",
   "execution_count": 43,
   "metadata": {},
   "outputs": [
    {
     "data": {
      "text/plain": [
       "Series([], Name: search_type, dtype: int64)"
      ]
     },
     "execution_count": 43,
     "metadata": {},
     "output_type": "execute_result"
    }
   ],
   "source": [
    "# test that theory, why is the Series empty?\n",
    "vt[vt.search_conducted == False].search_type.value_counts()\n",
    "# value_counts ignores missing values by default"
   ]
  },
  {
   "cell_type": "code",
   "execution_count": 44,
   "metadata": {},
   "outputs": [
    {
     "data": {
      "text/plain": [
       "Consent Search - Probable Cause          2321\n",
       "Consent Search - Reasonable Suspicion     879\n",
       "Warrant                                   219\n",
       "Name: search_type, dtype: int64"
      ]
     },
     "execution_count": 44,
     "metadata": {},
     "output_type": "execute_result"
    }
   ],
   "source": [
    "# when search_conducted is True, search_type is never missing\n",
    "vt[vt.search_conducted == True].search_type.value_counts(dropna=False)"
   ]
  },
  {
   "cell_type": "code",
   "execution_count": 46,
   "metadata": {},
   "outputs": [
    {
     "data": {
      "text/plain": [
       "2013    57235\n",
       "2014    54689\n",
       "2012    52568\n",
       "2011    48652\n",
       "2015    45662\n",
       "2010    24479\n",
       "Name: stop_date, dtype: int64"
      ]
     },
     "execution_count": 46,
     "metadata": {},
     "output_type": "execute_result"
    }
   ],
   "source": [
    "# this works, but there's a better way\n",
    "vt.stop_date.str.slice(0, 4).value_counts()"
   ]
  },
  {
   "cell_type": "code",
   "execution_count": 47,
   "metadata": {},
   "outputs": [],
   "source": [
    "# make sure you create this column\n",
    "combined = vt.stop_date.str.cat(vt.stop_time, sep=' ')\n",
    "vt['stop_datetime'] = pd.to_datetime(combined)"
   ]
  },
  {
   "cell_type": "code",
   "execution_count": 49,
   "metadata": {},
   "outputs": [
    {
     "data": {
      "text/plain": [
       "2013    57235\n",
       "2014    54689\n",
       "2012    52568\n",
       "2011    48652\n",
       "2015    45662\n",
       "2010    24479\n",
       "Name: stop_datetime, dtype: int64"
      ]
     },
     "execution_count": 49,
     "metadata": {},
     "output_type": "execute_result"
    }
   ],
   "source": [
    "# why is 2010 so much smaller?\n",
    "vt.stop_datetime.dt.year.value_counts()"
   ]
  },
  {
   "cell_type": "code",
   "execution_count": 53,
   "metadata": {},
   "outputs": [
    {
     "data": {
      "text/plain": [
       "0.011758476445981962"
      ]
     },
     "execution_count": 53,
     "metadata": {},
     "output_type": "execute_result"
    }
   ],
   "source": [
    "vt.is_arrested.mean()"
   ]
  },
  {
   "cell_type": "code",
   "execution_count": 54,
   "metadata": {},
   "outputs": [
    {
     "data": {
      "text/plain": [
       "0.012069117673014808"
      ]
     },
     "execution_count": 54,
     "metadata": {},
     "output_type": "execute_result"
    }
   ],
   "source": [
    "vt.search_conducted.mean()"
   ]
  },
  {
   "cell_type": "code",
   "execution_count": 55,
   "metadata": {},
   "outputs": [
    {
     "data": {
      "text/plain": [
       "stop_datetime\n",
       "0     0.025741\n",
       "1     0.034568\n",
       "2     0.045061\n",
       "3     0.048387\n",
       "4     0.040881\n",
       "5     0.011327\n",
       "6     0.008744\n",
       "7     0.003947\n",
       "8     0.006402\n",
       "9     0.005936\n",
       "10    0.005961\n",
       "11    0.007286\n",
       "12    0.009218\n",
       "13    0.007953\n",
       "14    0.009376\n",
       "15    0.007283\n",
       "16    0.009314\n",
       "17    0.009838\n",
       "18    0.010049\n",
       "19    0.012618\n",
       "20    0.016145\n",
       "21    0.015152\n",
       "22    0.019930\n",
       "23    0.021323\n",
       "Name: is_arrested, dtype: float64"
      ]
     },
     "execution_count": 55,
     "metadata": {},
     "output_type": "execute_result"
    }
   ],
   "source": [
    "# can't groupby 'hour' unless you create it as a column\n",
    "vt.groupby(vt.stop_datetime.dt.hour).is_arrested.mean()"
   ]
  },
  {
   "cell_type": "code",
   "execution_count": 56,
   "metadata": {},
   "outputs": [
    {
     "data": {
      "text/plain": [
       "<matplotlib.axes._subplots.AxesSubplot at 0x2770752d320>"
      ]
     },
     "execution_count": 56,
     "metadata": {},
     "output_type": "execute_result"
    },
    {
     "data": {
      "image/png": "[encoded data removed]",
      "text/plain": [
       "<matplotlib.figure.Figure at 0x2777e7ba588>"
      ]
     },
     "metadata": {},
     "output_type": "display_data"
    }
   ],
   "source": [
    "# line plot by default (for a Series)\n",
    "vt.groupby(vt.stop_datetime.dt.hour).is_arrested.mean().plot()"
   ]
  },
  {
   "cell_type": "code",
   "execution_count": 57,
   "metadata": {},
   "outputs": [
    {
     "data": {
      "text/plain": [
       "<matplotlib.axes._subplots.AxesSubplot at 0x2777e913dd8>"
      ]
     },
     "execution_count": 57,
     "metadata": {},
     "output_type": "execute_result"
    },
    {
     "data": {
      "image/png": "[encoded data removed]",
      "text/plain": [
       "<matplotlib.figure.Figure at 0x2770752d198>"
      ]
     },
     "metadata": {},
     "output_type": "display_data"
    }
   ],
   "source": [
    "# alternative: count search conducted stops by hour\n",
    "vt.groupby(vt.stop_datetime.dt.hour).search_conducted.sum().plot()"
   ]
  },
  {
   "cell_type": "code",
   "execution_count": 58,
   "metadata": {},
   "outputs": [
    {
     "data": {
      "text/plain": [
       "18    26370\n",
       "17    23888\n",
       "15    20184\n",
       "16    19003\n",
       "14    17492\n",
       "9     16847\n",
       "19    15930\n",
       "8     15152\n",
       "10    14427\n",
       "13    13203\n",
       "23    12897\n",
       "22    12544\n",
       "21    11616\n",
       "20    10963\n",
       "11    10842\n",
       "0     10567\n",
       "12     9330\n",
       "7      8614\n",
       "1      6451\n",
       "6      3088\n",
       "2      2197\n",
       "3       744\n",
       "5       618\n",
       "4       318\n",
       "Name: stop_datetime, dtype: int64"
      ]
     },
     "execution_count": 58,
     "metadata": {},
     "output_type": "execute_result"
    }
   ],
   "source": [
    "vt.stop_datetime.dt.hour.value_counts()"
   ]
  },
  {
   "cell_type": "code",
   "execution_count": 59,
   "metadata": {},
   "outputs": [
    {
     "data": {
      "text/plain": [
       "<matplotlib.axes._subplots.AxesSubplot at 0x277072121d0>"
      ]
     },
     "execution_count": 59,
     "metadata": {},
     "output_type": "execute_result"
    },
    {
     "data": {
      "image/png": "[encoded data removed]",
      "text/plain": [
       "<matplotlib.figure.Figure at 0x27707435978>"
      ]
     },
     "metadata": {},
     "output_type": "display_data"
    }
   ],
   "source": [
    "vt.stop_datetime.dt.hour.value_counts().sort_index().plot()"
   ]
  },
  {
   "cell_type": "code",
   "execution_count": 61,
   "metadata": {},
   "outputs": [
    {
     "data": {
      "text/plain": [
       "<matplotlib.axes._subplots.AxesSubplot at 0x277077005f8>"
      ]
     },
     "execution_count": 61,
     "metadata": {},
     "output_type": "execute_result"
    },
    {
     "data": {
      "image/png": "[encoded data removed]",
      "text/plain": [
       "<matplotlib.figure.Figure at 0x27707212940>"
      ]
     },
     "metadata": {},
     "output_type": "display_data"
    }
   ],
   "source": [
    "# alternative method\n",
    "vt.groupby(vt.stop_datetime.dt.hour).stop_date.count().plot()"
   ]
  },
  {
   "cell_type": "raw",
   "metadata": {},
   "source": []
  },
  {
   "cell_type": "code",
   "execution_count": 67,
   "metadata": {},
   "outputs": [
    {
     "data": {
      "text/plain": [
       "county_name        search_conducted\n",
       "Addison County     False               0.984130\n",
       "                   True                0.015870\n",
       "Bennington County  False               0.985652\n",
       "                   True                0.014348\n",
       "Caledonia County   False               0.993596\n",
       "                   True                0.006404\n",
       "Chittenden County  False               0.989011\n",
       "                   True                0.010989\n",
       "Essex County       False               0.997057\n",
       "                   True                0.002943\n",
       "Franklin County    False               0.989001\n",
       "                   True                0.010999\n",
       "Grand Isle County  False               0.979554\n",
       "                   True                0.020446\n",
       "Lamoille County    False               0.973719\n",
       "                   True                0.026281\n",
       "Orange County      False               0.992342\n",
       "                   True                0.007658\n",
       "Orleans County     False               0.998587\n",
       "                   True                0.001413\n",
       "Rutland County     False               0.990393\n",
       "                   True                0.009607\n",
       "Washington County  False               0.990375\n",
       "                   True                0.009625\n",
       "Windham County     False               0.980189\n",
       "                   True                0.019811\n",
       "Windsor County     False               0.989756\n",
       "                   True                0.010244\n",
       "Name: search_conducted, dtype: float64"
      ]
     },
     "execution_count": 67,
     "metadata": {},
     "output_type": "execute_result"
    }
   ],
   "source": [
    "vt.groupby('county_name').search_conducted.value_counts(normalize=True)"
   ]
  },
  {
   "cell_type": "code",
   "execution_count": 69,
   "metadata": {},
   "outputs": [
    {
     "data": {
      "text/plain": [
       "county_name        search_conducted\n",
       "Addison County     False               0.984130\n",
       "                   True                0.015870\n",
       "Bennington County  False               0.985652\n",
       "                   True                0.014348\n",
       "Caledonia County   False               0.993596\n",
       "                   True                0.006404\n",
       "Chittenden County  False               0.989011\n",
       "                   True                0.010989\n",
       "Essex County       False               0.997057\n",
       "                   True                0.002943\n",
       "Franklin County    False               0.989001\n",
       "                   True                0.010999\n",
       "Grand Isle County  False               0.979554\n",
       "                   True                0.020446\n",
       "Lamoille County    False               0.973719\n",
       "                   True                0.026281\n",
       "Orange County      False               0.992342\n",
       "                   True                0.007658\n",
       "Orleans County     False               0.998587\n",
       "                   True                0.001413\n",
       "Rutland County     False               0.990393\n",
       "                   True                0.009607\n",
       "Washington County  False               0.990375\n",
       "                   True                0.009625\n",
       "Windham County     False               0.980189\n",
       "                   True                0.019811\n",
       "Windsor County     False               0.989756\n",
       "                   True                0.010244\n",
       "Name: search_conducted, dtype: float64"
      ]
     },
     "execution_count": 69,
     "metadata": {},
     "output_type": "execute_result"
    }
   ],
   "source": [
    "vt.groupby('county_name').search_conducted.value_counts(normalize=True)"
   ]
  },
  {
   "cell_type": "code",
   "execution_count": 70,
   "metadata": {},
   "outputs": [
    {
     "data": {
      "text/html": [
       "<div>\n",
       "<style>\n",
       "    .dataframe thead tr:only-child th {\n",
       "        text-align: right;\n",
       "    }\n",
       "\n",
       "    .dataframe thead th {\n",
       "        text-align: left;\n",
       "    }\n",
       "\n",
       "    .dataframe tbody tr th {\n",
       "        vertical-align: top;\n",
       "    }\n",
       "</style>\n",
       "<table border=\"1\" class=\"dataframe\">\n",
       "  <thead>\n",
       "    <tr style=\"text-align: right;\">\n",
       "      <th></th>\n",
       "      <th>count</th>\n",
       "      <th>mean</th>\n",
       "      <th>std</th>\n",
       "      <th>min</th>\n",
       "      <th>25%</th>\n",
       "      <th>50%</th>\n",
       "      <th>75%</th>\n",
       "      <th>max</th>\n",
       "    </tr>\n",
       "    <tr>\n",
       "      <th>violation</th>\n",
       "      <th></th>\n",
       "      <th></th>\n",
       "      <th></th>\n",
       "      <th></th>\n",
       "      <th></th>\n",
       "      <th></th>\n",
       "      <th></th>\n",
       "      <th></th>\n",
       "    </tr>\n",
       "  </thead>\n",
       "  <tbody>\n",
       "    <tr>\n",
       "      <th>DUI</th>\n",
       "      <td>746.0</td>\n",
       "      <td>38.306971</td>\n",
       "      <td>16.225868</td>\n",
       "      <td>16.0</td>\n",
       "      <td>24.00</td>\n",
       "      <td>35.0</td>\n",
       "      <td>50.00</td>\n",
       "      <td>96.0</td>\n",
       "    </tr>\n",
       "    <tr>\n",
       "      <th>Equipment</th>\n",
       "      <td>51660.0</td>\n",
       "      <td>37.191250</td>\n",
       "      <td>14.722370</td>\n",
       "      <td>15.0</td>\n",
       "      <td>25.00</td>\n",
       "      <td>34.0</td>\n",
       "      <td>48.00</td>\n",
       "      <td>96.0</td>\n",
       "    </tr>\n",
       "    <tr>\n",
       "      <th>Moving violation</th>\n",
       "      <td>217567.0</td>\n",
       "      <td>39.386359</td>\n",
       "      <td>15.774591</td>\n",
       "      <td>15.0</td>\n",
       "      <td>25.00</td>\n",
       "      <td>37.0</td>\n",
       "      <td>51.00</td>\n",
       "      <td>99.0</td>\n",
       "    </tr>\n",
       "    <tr>\n",
       "      <th>Other</th>\n",
       "      <td>9982.0</td>\n",
       "      <td>34.919856</td>\n",
       "      <td>14.107755</td>\n",
       "      <td>15.0</td>\n",
       "      <td>24.00</td>\n",
       "      <td>31.0</td>\n",
       "      <td>44.00</td>\n",
       "      <td>96.0</td>\n",
       "    </tr>\n",
       "    <tr>\n",
       "      <th>Other (non-mapped)</th>\n",
       "      <td>2.0</td>\n",
       "      <td>63.500000</td>\n",
       "      <td>24.748737</td>\n",
       "      <td>46.0</td>\n",
       "      <td>54.75</td>\n",
       "      <td>63.5</td>\n",
       "      <td>72.25</td>\n",
       "      <td>81.0</td>\n",
       "    </tr>\n",
       "  </tbody>\n",
       "</table>\n",
       "</div>"
      ],
      "text/plain": [
       "                       count       mean        std   min    25%   50%    75%  \\\n",
       "violation                                                                      \n",
       "DUI                    746.0  38.306971  16.225868  16.0  24.00  35.0  50.00   \n",
       "Equipment            51660.0  37.191250  14.722370  15.0  25.00  34.0  48.00   \n",
       "Moving violation    217567.0  39.386359  15.774591  15.0  25.00  37.0  51.00   \n",
       "Other                 9982.0  34.919856  14.107755  15.0  24.00  31.0  44.00   \n",
       "Other (non-mapped)       2.0  63.500000  24.748737  46.0  54.75  63.5  72.25   \n",
       "\n",
       "                     max  \n",
       "violation                 \n",
       "DUI                 96.0  \n",
       "Equipment           96.0  \n",
       "Moving violation    99.0  \n",
       "Other               96.0  \n",
       "Other (non-mapped)  81.0  "
      ]
     },
     "execution_count": 70,
     "metadata": {},
     "output_type": "execute_result"
    }
   ],
   "source": [
    "# good first step\n",
    "vt.groupby('violation').driver_age.describe()"
   ]
  },
  {
   "cell_type": "code",
   "execution_count": 71,
   "metadata": {},
   "outputs": [
    {
     "data": {
      "text/plain": [
       "<matplotlib.axes._subplots.AxesSubplot at 0x2770777b7b8>"
      ]
     },
     "execution_count": 71,
     "metadata": {},
     "output_type": "execute_result"
    },
    {
     "data": {
      "image/png": "[encoded data removed]",
      "text/plain": [
       "<matplotlib.figure.Figure at 0x27707760ba8>"
      ]
     },
     "metadata": {},
     "output_type": "display_data"
    }
   ],
   "source": [
    "vt.driver_age.plot(kind='hist')"
   ]
  },
  {
   "cell_type": "code",
   "execution_count": 72,
   "metadata": {},
   "outputs": [
    {
     "data": {
      "text/plain": [
       "<matplotlib.axes._subplots.AxesSubplot at 0x277088c9fd0>"
      ]
     },
     "execution_count": 72,
     "metadata": {},
     "output_type": "execute_result"
    },
    {
     "data": {
      "image/png": "[encoded data removed]",
      "text/plain": [
       "<matplotlib.figure.Figure at 0x277088bf518>"
      ]
     },
     "metadata": {},
     "output_type": "display_data"
    }
   ],
   "source": [
    "# similar to a histogram\n",
    "vt.driver_age.value_counts().sort_index().plot()"
   ]
  },
  {
   "cell_type": "code",
   "execution_count": 73,
   "metadata": {},
   "outputs": [
    {
     "data": {
      "text/plain": [
       "array([[<matplotlib.axes._subplots.AxesSubplot object at 0x00000277089120B8>,\n",
       "        <matplotlib.axes._subplots.AxesSubplot object at 0x0000027708AF1BA8>],\n",
       "       [<matplotlib.axes._subplots.AxesSubplot object at 0x0000027708D569B0>,\n",
       "        <matplotlib.axes._subplots.AxesSubplot object at 0x0000027708D939E8>],\n",
       "       [<matplotlib.axes._subplots.AxesSubplot object at 0x0000027708DCD7F0>,\n",
       "        <matplotlib.axes._subplots.AxesSubplot object at 0x0000027708DCD828>]], dtype=object)"
      ]
     },
     "execution_count": 73,
     "metadata": {},
     "output_type": "execute_result"
    },
    {
     "data": {
      "image/png": "[encoded data removed]",
      "text/plain": [
       "<matplotlib.figure.Figure at 0x277076fa470>"
      ]
     },
     "metadata": {},
     "output_type": "display_data"
    }
   ],
   "source": [
    "# what changed? how is this better or worse?\n",
    "vt.hist('driver_age', by='violation', sharex=True)"
   ]
  },
  {
   "cell_type": "code",
   "execution_count": 74,
   "metadata": {},
   "outputs": [],
   "source": [
    "vt['new_age'] = vt.stop_datetime.dt.year - vt.driver_age_raw"
   ]
  },
  {
   "cell_type": "code",
   "execution_count": 76,
   "metadata": {},
   "outputs": [
    {
     "data": {
      "text/plain": [
       "array([[<matplotlib.axes._subplots.AxesSubplot object at 0x0000027709A017F0>,\n",
       "        <matplotlib.axes._subplots.AxesSubplot object at 0x00000277089A69B0>]], dtype=object)"
      ]
     },
     "execution_count": 76,
     "metadata": {},
     "output_type": "execute_result"
    },
    {
     "data": {
      "image/png": "[encoded data removed]",
      "text/plain": [
       "<matplotlib.figure.Figure at 0x277089230f0>"
      ]
     },
     "metadata": {},
     "output_type": "display_data"
    }
   ],
   "source": [
    "# compare the distributions\n",
    "vt[['driver_age', 'new_age']].hist()"
   ]
  },
  {
   "cell_type": "code",
   "execution_count": 78,
   "metadata": {},
   "outputs": [
    {
     "data": {
      "text/html": [
       "<div>\n",
       "<style>\n",
       "    .dataframe thead tr:only-child th {\n",
       "        text-align: right;\n",
       "    }\n",
       "\n",
       "    .dataframe thead th {\n",
       "        text-align: left;\n",
       "    }\n",
       "\n",
       "    .dataframe tbody tr th {\n",
       "        vertical-align: top;\n",
       "    }\n",
       "</style>\n",
       "<table border=\"1\" class=\"dataframe\">\n",
       "  <thead>\n",
       "    <tr style=\"text-align: right;\">\n",
       "      <th></th>\n",
       "      <th>driver_age</th>\n",
       "      <th>new_age</th>\n",
       "      <th>driver_age_raw</th>\n",
       "    </tr>\n",
       "  </thead>\n",
       "  <tbody>\n",
       "    <tr>\n",
       "      <th>0</th>\n",
       "      <td>22.0</td>\n",
       "      <td>1988.0</td>\n",
       "      <td>22.0</td>\n",
       "    </tr>\n",
       "    <tr>\n",
       "      <th>1</th>\n",
       "      <td>21.0</td>\n",
       "      <td>1989.0</td>\n",
       "      <td>21.0</td>\n",
       "    </tr>\n",
       "    <tr>\n",
       "      <th>2</th>\n",
       "      <td>21.0</td>\n",
       "      <td>1989.0</td>\n",
       "      <td>21.0</td>\n",
       "    </tr>\n",
       "    <tr>\n",
       "      <th>3</th>\n",
       "      <td>18.0</td>\n",
       "      <td>1992.0</td>\n",
       "      <td>18.0</td>\n",
       "    </tr>\n",
       "    <tr>\n",
       "      <th>4</th>\n",
       "      <td>18.0</td>\n",
       "      <td>1992.0</td>\n",
       "      <td>18.0</td>\n",
       "    </tr>\n",
       "    <tr>\n",
       "      <th>5</th>\n",
       "      <td>20.0</td>\n",
       "      <td>1990.0</td>\n",
       "      <td>20.0</td>\n",
       "    </tr>\n",
       "    <tr>\n",
       "      <th>6</th>\n",
       "      <td>21.0</td>\n",
       "      <td>1989.0</td>\n",
       "      <td>21.0</td>\n",
       "    </tr>\n",
       "    <tr>\n",
       "      <th>7</th>\n",
       "      <td>40.0</td>\n",
       "      <td>1970.0</td>\n",
       "      <td>40.0</td>\n",
       "    </tr>\n",
       "    <tr>\n",
       "      <th>8</th>\n",
       "      <td>24.0</td>\n",
       "      <td>1986.0</td>\n",
       "      <td>24.0</td>\n",
       "    </tr>\n",
       "    <tr>\n",
       "      <th>9</th>\n",
       "      <td>19.0</td>\n",
       "      <td>1991.0</td>\n",
       "      <td>19.0</td>\n",
       "    </tr>\n",
       "    <tr>\n",
       "      <th>10</th>\n",
       "      <td>21.0</td>\n",
       "      <td>1989.0</td>\n",
       "      <td>21.0</td>\n",
       "    </tr>\n",
       "    <tr>\n",
       "      <th>11</th>\n",
       "      <td>19.0</td>\n",
       "      <td>1991.0</td>\n",
       "      <td>19.0</td>\n",
       "    </tr>\n",
       "    <tr>\n",
       "      <th>12</th>\n",
       "      <td>55.0</td>\n",
       "      <td>1955.0</td>\n",
       "      <td>55.0</td>\n",
       "    </tr>\n",
       "    <tr>\n",
       "      <th>13</th>\n",
       "      <td>26.0</td>\n",
       "      <td>1984.0</td>\n",
       "      <td>26.0</td>\n",
       "    </tr>\n",
       "    <tr>\n",
       "      <th>14</th>\n",
       "      <td>26.0</td>\n",
       "      <td>1984.0</td>\n",
       "      <td>26.0</td>\n",
       "    </tr>\n",
       "    <tr>\n",
       "      <th>15</th>\n",
       "      <td>27.0</td>\n",
       "      <td>1983.0</td>\n",
       "      <td>27.0</td>\n",
       "    </tr>\n",
       "    <tr>\n",
       "      <th>16</th>\n",
       "      <td>NaN</td>\n",
       "      <td>NaN</td>\n",
       "      <td>NaN</td>\n",
       "    </tr>\n",
       "    <tr>\n",
       "      <th>17</th>\n",
       "      <td>73.0</td>\n",
       "      <td>1937.0</td>\n",
       "      <td>73.0</td>\n",
       "    </tr>\n",
       "    <tr>\n",
       "      <th>18</th>\n",
       "      <td>64.0</td>\n",
       "      <td>1946.0</td>\n",
       "      <td>64.0</td>\n",
       "    </tr>\n",
       "    <tr>\n",
       "      <th>19</th>\n",
       "      <td>34.0</td>\n",
       "      <td>1976.0</td>\n",
       "      <td>34.0</td>\n",
       "    </tr>\n",
       "    <tr>\n",
       "      <th>20</th>\n",
       "      <td>53.0</td>\n",
       "      <td>1957.0</td>\n",
       "      <td>53.0</td>\n",
       "    </tr>\n",
       "    <tr>\n",
       "      <th>21</th>\n",
       "      <td>26.0</td>\n",
       "      <td>1984.0</td>\n",
       "      <td>26.0</td>\n",
       "    </tr>\n",
       "    <tr>\n",
       "      <th>22</th>\n",
       "      <td>39.0</td>\n",
       "      <td>1971.0</td>\n",
       "      <td>39.0</td>\n",
       "    </tr>\n",
       "    <tr>\n",
       "      <th>23</th>\n",
       "      <td>52.0</td>\n",
       "      <td>1958.0</td>\n",
       "      <td>52.0</td>\n",
       "    </tr>\n",
       "    <tr>\n",
       "      <th>24</th>\n",
       "      <td>49.0</td>\n",
       "      <td>1961.0</td>\n",
       "      <td>49.0</td>\n",
       "    </tr>\n",
       "    <tr>\n",
       "      <th>25</th>\n",
       "      <td>25.0</td>\n",
       "      <td>1985.0</td>\n",
       "      <td>25.0</td>\n",
       "    </tr>\n",
       "    <tr>\n",
       "      <th>26</th>\n",
       "      <td>21.0</td>\n",
       "      <td>1989.0</td>\n",
       "      <td>21.0</td>\n",
       "    </tr>\n",
       "    <tr>\n",
       "      <th>27</th>\n",
       "      <td>18.0</td>\n",
       "      <td>1992.0</td>\n",
       "      <td>18.0</td>\n",
       "    </tr>\n",
       "    <tr>\n",
       "      <th>28</th>\n",
       "      <td>38.0</td>\n",
       "      <td>1972.0</td>\n",
       "      <td>38.0</td>\n",
       "    </tr>\n",
       "    <tr>\n",
       "      <th>29</th>\n",
       "      <td>85.0</td>\n",
       "      <td>1925.0</td>\n",
       "      <td>85.0</td>\n",
       "    </tr>\n",
       "    <tr>\n",
       "      <th>...</th>\n",
       "      <td>...</td>\n",
       "      <td>...</td>\n",
       "      <td>...</td>\n",
       "    </tr>\n",
       "    <tr>\n",
       "      <th>283255</th>\n",
       "      <td>19.0</td>\n",
       "      <td>1996.0</td>\n",
       "      <td>19.0</td>\n",
       "    </tr>\n",
       "    <tr>\n",
       "      <th>283256</th>\n",
       "      <td>NaN</td>\n",
       "      <td>NaN</td>\n",
       "      <td>NaN</td>\n",
       "    </tr>\n",
       "    <tr>\n",
       "      <th>283257</th>\n",
       "      <td>24.0</td>\n",
       "      <td>1991.0</td>\n",
       "      <td>24.0</td>\n",
       "    </tr>\n",
       "    <tr>\n",
       "      <th>283258</th>\n",
       "      <td>NaN</td>\n",
       "      <td>NaN</td>\n",
       "      <td>NaN</td>\n",
       "    </tr>\n",
       "    <tr>\n",
       "      <th>283259</th>\n",
       "      <td>NaN</td>\n",
       "      <td>NaN</td>\n",
       "      <td>NaN</td>\n",
       "    </tr>\n",
       "    <tr>\n",
       "      <th>283260</th>\n",
       "      <td>NaN</td>\n",
       "      <td>NaN</td>\n",
       "      <td>NaN</td>\n",
       "    </tr>\n",
       "    <tr>\n",
       "      <th>283261</th>\n",
       "      <td>26.0</td>\n",
       "      <td>1989.0</td>\n",
       "      <td>26.0</td>\n",
       "    </tr>\n",
       "    <tr>\n",
       "      <th>283262</th>\n",
       "      <td>31.0</td>\n",
       "      <td>1984.0</td>\n",
       "      <td>31.0</td>\n",
       "    </tr>\n",
       "    <tr>\n",
       "      <th>283263</th>\n",
       "      <td>NaN</td>\n",
       "      <td>NaN</td>\n",
       "      <td>NaN</td>\n",
       "    </tr>\n",
       "    <tr>\n",
       "      <th>283264</th>\n",
       "      <td>29.0</td>\n",
       "      <td>1986.0</td>\n",
       "      <td>29.0</td>\n",
       "    </tr>\n",
       "    <tr>\n",
       "      <th>283265</th>\n",
       "      <td>64.0</td>\n",
       "      <td>1951.0</td>\n",
       "      <td>64.0</td>\n",
       "    </tr>\n",
       "    <tr>\n",
       "      <th>283266</th>\n",
       "      <td>42.0</td>\n",
       "      <td>1973.0</td>\n",
       "      <td>42.0</td>\n",
       "    </tr>\n",
       "    <tr>\n",
       "      <th>283267</th>\n",
       "      <td>26.0</td>\n",
       "      <td>1989.0</td>\n",
       "      <td>26.0</td>\n",
       "    </tr>\n",
       "    <tr>\n",
       "      <th>283268</th>\n",
       "      <td>19.0</td>\n",
       "      <td>1996.0</td>\n",
       "      <td>19.0</td>\n",
       "    </tr>\n",
       "    <tr>\n",
       "      <th>283269</th>\n",
       "      <td>37.0</td>\n",
       "      <td>1978.0</td>\n",
       "      <td>37.0</td>\n",
       "    </tr>\n",
       "    <tr>\n",
       "      <th>283270</th>\n",
       "      <td>NaN</td>\n",
       "      <td>NaN</td>\n",
       "      <td>NaN</td>\n",
       "    </tr>\n",
       "    <tr>\n",
       "      <th>283271</th>\n",
       "      <td>NaN</td>\n",
       "      <td>NaN</td>\n",
       "      <td>NaN</td>\n",
       "    </tr>\n",
       "    <tr>\n",
       "      <th>283272</th>\n",
       "      <td>36.0</td>\n",
       "      <td>1979.0</td>\n",
       "      <td>36.0</td>\n",
       "    </tr>\n",
       "    <tr>\n",
       "      <th>283273</th>\n",
       "      <td>46.0</td>\n",
       "      <td>1969.0</td>\n",
       "      <td>46.0</td>\n",
       "    </tr>\n",
       "    <tr>\n",
       "      <th>283274</th>\n",
       "      <td>32.0</td>\n",
       "      <td>1983.0</td>\n",
       "      <td>32.0</td>\n",
       "    </tr>\n",
       "    <tr>\n",
       "      <th>283275</th>\n",
       "      <td>58.0</td>\n",
       "      <td>1957.0</td>\n",
       "      <td>58.0</td>\n",
       "    </tr>\n",
       "    <tr>\n",
       "      <th>283276</th>\n",
       "      <td>43.0</td>\n",
       "      <td>1972.0</td>\n",
       "      <td>43.0</td>\n",
       "    </tr>\n",
       "    <tr>\n",
       "      <th>283277</th>\n",
       "      <td>56.0</td>\n",
       "      <td>1959.0</td>\n",
       "      <td>56.0</td>\n",
       "    </tr>\n",
       "    <tr>\n",
       "      <th>283278</th>\n",
       "      <td>38.0</td>\n",
       "      <td>1977.0</td>\n",
       "      <td>38.0</td>\n",
       "    </tr>\n",
       "    <tr>\n",
       "      <th>283279</th>\n",
       "      <td>NaN</td>\n",
       "      <td>NaN</td>\n",
       "      <td>NaN</td>\n",
       "    </tr>\n",
       "    <tr>\n",
       "      <th>283280</th>\n",
       "      <td>74.0</td>\n",
       "      <td>1941.0</td>\n",
       "      <td>74.0</td>\n",
       "    </tr>\n",
       "    <tr>\n",
       "      <th>283281</th>\n",
       "      <td>29.0</td>\n",
       "      <td>1986.0</td>\n",
       "      <td>29.0</td>\n",
       "    </tr>\n",
       "    <tr>\n",
       "      <th>283282</th>\n",
       "      <td>24.0</td>\n",
       "      <td>1991.0</td>\n",
       "      <td>24.0</td>\n",
       "    </tr>\n",
       "    <tr>\n",
       "      <th>283283</th>\n",
       "      <td>55.0</td>\n",
       "      <td>1960.0</td>\n",
       "      <td>55.0</td>\n",
       "    </tr>\n",
       "    <tr>\n",
       "      <th>283284</th>\n",
       "      <td>22.0</td>\n",
       "      <td>1993.0</td>\n",
       "      <td>22.0</td>\n",
       "    </tr>\n",
       "  </tbody>\n",
       "</table>\n",
       "<p>283285 rows × 3 columns</p>\n",
       "</div>"
      ],
      "text/plain": [
       "        driver_age  new_age  driver_age_raw\n",
       "0             22.0   1988.0            22.0\n",
       "1             21.0   1989.0            21.0\n",
       "2             21.0   1989.0            21.0\n",
       "3             18.0   1992.0            18.0\n",
       "4             18.0   1992.0            18.0\n",
       "5             20.0   1990.0            20.0\n",
       "6             21.0   1989.0            21.0\n",
       "7             40.0   1970.0            40.0\n",
       "8             24.0   1986.0            24.0\n",
       "9             19.0   1991.0            19.0\n",
       "10            21.0   1989.0            21.0\n",
       "11            19.0   1991.0            19.0\n",
       "12            55.0   1955.0            55.0\n",
       "13            26.0   1984.0            26.0\n",
       "14            26.0   1984.0            26.0\n",
       "15            27.0   1983.0            27.0\n",
       "16             NaN      NaN             NaN\n",
       "17            73.0   1937.0            73.0\n",
       "18            64.0   1946.0            64.0\n",
       "19            34.0   1976.0            34.0\n",
       "20            53.0   1957.0            53.0\n",
       "21            26.0   1984.0            26.0\n",
       "22            39.0   1971.0            39.0\n",
       "23            52.0   1958.0            52.0\n",
       "24            49.0   1961.0            49.0\n",
       "25            25.0   1985.0            25.0\n",
       "26            21.0   1989.0            21.0\n",
       "27            18.0   1992.0            18.0\n",
       "28            38.0   1972.0            38.0\n",
       "29            85.0   1925.0            85.0\n",
       "...            ...      ...             ...\n",
       "283255        19.0   1996.0            19.0\n",
       "283256         NaN      NaN             NaN\n",
       "283257        24.0   1991.0            24.0\n",
       "283258         NaN      NaN             NaN\n",
       "283259         NaN      NaN             NaN\n",
       "283260         NaN      NaN             NaN\n",
       "283261        26.0   1989.0            26.0\n",
       "283262        31.0   1984.0            31.0\n",
       "283263         NaN      NaN             NaN\n",
       "283264        29.0   1986.0            29.0\n",
       "283265        64.0   1951.0            64.0\n",
       "283266        42.0   1973.0            42.0\n",
       "283267        26.0   1989.0            26.0\n",
       "283268        19.0   1996.0            19.0\n",
       "283269        37.0   1978.0            37.0\n",
       "283270         NaN      NaN             NaN\n",
       "283271         NaN      NaN             NaN\n",
       "283272        36.0   1979.0            36.0\n",
       "283273        46.0   1969.0            46.0\n",
       "283274        32.0   1983.0            32.0\n",
       "283275        58.0   1957.0            58.0\n",
       "283276        43.0   1972.0            43.0\n",
       "283277        56.0   1959.0            56.0\n",
       "283278        38.0   1977.0            38.0\n",
       "283279         NaN      NaN             NaN\n",
       "283280        74.0   1941.0            74.0\n",
       "283281        29.0   1986.0            29.0\n",
       "283282        24.0   1991.0            24.0\n",
       "283283        55.0   1960.0            55.0\n",
       "283284        22.0   1993.0            22.0\n",
       "\n",
       "[283285 rows x 3 columns]"
      ]
     },
     "execution_count": 78,
     "metadata": {},
     "output_type": "execute_result"
    }
   ],
   "source": [
    "vt[['driver_age', 'new_age','driver_age_raw']]"
   ]
  },
  {
   "cell_type": "code",
   "execution_count": null,
   "metadata": {},
   "outputs": [],
   "source": []
  }
 ],
 "metadata": {
  "kernelspec": {
   "display_name": "Python 3",
   "language": "python",
   "name": "python3"
  },
  "language_info": {
   "codemirror_mode": {
    "name": "ipython",
    "version": 3
   },
   "file_extension": ".py",
   "mimetype": "text/x-python",
   "name": "python",
   "nbconvert_exporter": "python",
   "pygments_lexer": "ipython3",
   "version": "3.6.3"
  }
 },
 "nbformat": 4,
 "nbformat_minor": 2
}
